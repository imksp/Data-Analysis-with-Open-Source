{
  "nbformat": 4,
  "nbformat_minor": 0,
  "metadata": {
    "colab": {
      "provenance": [],
      "authorship_tag": "ABX9TyOifV1BNMWq5iQ0C/nOpvvZ",
      "include_colab_link": true
    },
    "kernelspec": {
      "name": "python3",
      "display_name": "Python 3"
    },
    "language_info": {
      "name": "python"
    }
  },
  "cells": [
    {
      "cell_type": "markdown",
      "metadata": {
        "id": "view-in-github",
        "colab_type": "text"
      },
      "source": [
        "<a href=\"https://colab.research.google.com/github/imksp/Data-Analysis-with-Open-Source/blob/main/assignment.ipynb\" target=\"_parent\"><img src=\"https://colab.research.google.com/assets/colab-badge.svg\" alt=\"Open In Colab\"/></a>"
      ]
    },
    {
      "cell_type": "code",
      "execution_count": 2,
      "metadata": {
        "colab": {
          "base_uri": "https://localhost:8080/"
        },
        "id": "K60ofbeaZx6l",
        "outputId": "4d2323de-4ef7-4887-90f5-293a6b7b111a"
      },
      "outputs": [
        {
          "output_type": "stream",
          "name": "stdout",
          "text": [
            "API 호출 성공\n",
            "{'energyUseDataSummaryInfo': {'list_total_count': 7, 'RESULT': {'CODE': 'INFO-000', 'MESSAGE': '정상 처리되었습니다'}, 'row': [{'YEAR': '2025', 'MON': '01', 'MM_TYPE': '개인', 'CNT': '1254911', 'EUS': '293836031', 'EUS1': '294950734', 'EUS2': '299856505', 'ECO2_1': '-3567588.5', 'ECO2_2': '-3390415.508', 'GUS': '64743317', 'GUS1': '65640270', 'GUS2': '70129681', 'GCO2_1': '-3112082', 'GCO2_2': '-6224164', 'WUS': '14290250.9', 'WUS1': '14349702.2', 'WUS2': '14658723.9', 'WCO2_1': '-213962.15', 'WCO2_2': '-343069.116', 'HUS': '26079633.15', 'HUS1': '26915271.488', 'HUS2': '28567284.736', 'HCO2_1': '-1661644.962', 'HCO2_2': '-1825469.852831888', 'REG_DATE': '2025-04-01 04:02:46.0'}, {'YEAR': '2025', 'MON': '01', 'MM_TYPE': '공공기관', 'CNT': '2458', 'EUS': '159137367', 'EUS1': '161224118', 'EUS2': '165177059', 'ECO2_1': '-4063221.5', 'ECO2_2': '-4063221.5', 'GUS': '5245062', 'GUS1': '6339106', 'GUS2': '6122197', 'GCO2_1': '-985669.5', 'GCO2_2': '-1971339', 'WUS': '1109496.9', 'WUS1': '1067063.3', 'WUS2': '1048332.2', 'WCO2_1': '51799.15', 'WCO2_2': '155397.45', 'HUS': '0', 'HUS1': '0', 'HUS2': '0', 'HCO2_1': '0', 'HCO2_2': '0', 'REG_DATE': '2025-04-01 04:02:46.0'}, {'YEAR': '2025', 'MON': '01', 'MM_TYPE': '공동주택관리소', 'CNT': '3717', 'EUS': '549306970', 'EUS1': '553171963', 'EUS2': '562732975', 'ECO2_1': '-8645499', 'ECO2_2': '-8645499', 'GUS': '12897492', 'GUS1': '13018588', 'GUS2': '14635031', 'GCO2_1': '-929317.5', 'GCO2_2': '-1858635', 'WUS': '19747538.2', 'WUS1': '19813169.6', 'WUS2': '19835823.1', 'WCO2_1': '-76958.15', 'WCO2_2': '-230874.45', 'HUS': '0', 'HUS1': '0', 'HUS2': '0', 'HCO2_1': '0', 'HCO2_2': '0', 'REG_DATE': '2025-04-01 04:02:46.0'}, {'YEAR': '2025', 'MON': '01', 'MM_TYPE': '종교단체', 'CNT': '849', 'EUS': '9663487', 'EUS1': '9820536', 'EUS2': '10044709', 'ECO2_1': '-269135.5', 'ECO2_2': '-269135.5', 'GUS': '538785', 'GUS1': '574357', 'GUS2': '665228', 'GCO2_1': '-80898', 'GCO2_2': '-161796', 'WUS': '45011', 'WUS1': '44737', 'WUS2': '44089', 'WCO2_1': '598', 'WCO2_2': '1794', 'HUS': '0', 'HUS1': '0', 'HUS2': '0', 'HCO2_1': '0', 'HCO2_2': '0', 'REG_DATE': '2025-04-01 04:02:46.0'}, {'YEAR': '2025', 'MON': '01', 'MM_TYPE': '기업', 'CNT': '19458', 'EUS': '624104890', 'EUS1': '643139445', 'EUS2': '659133378', 'ECO2_1': '-27031521.5', 'ECO2_2': '-27031521.5', 'GUS': '58727315', 'GUS1': '59074550', 'GUS2': '57721631', 'GCO2_1': '342601', 'GCO2_2': '685202', 'WUS': '4215302.2', 'WUS1': '4177674.4', 'WUS2': '4187370.8', 'WCO2_1': '32779.6', 'WCO2_2': '98338.8', 'HUS': '0', 'HUS1': '0', 'HUS2': '0', 'HCO2_1': '0', 'HCO2_2': '0', 'REG_DATE': '2025-04-01 04:02:46.0'}]}}\n"
          ]
        }
      ],
      "source": [
        "#1-1 호출 성공\n",
        "\n",
        "import requests\n",
        "\n",
        "req_url = \"http://openapi.seoul.go.kr:8088/sample/json/energyUseDataSummaryInfo/1/5/2025/01/\"\n",
        "api_key = '4944414453696d6b3334716e636a6b'\n",
        "\n",
        "## 데이터 수집\n",
        "req_response = requests.get(req_url)\n",
        "\n",
        "## 호출 성공/실패 출력\n",
        "if req_response.status_code == 200:\n",
        "    print('API 호출 성공')\n",
        "    print(req_response.json())\n",
        "else:\n",
        "    print(f'API 호출 실패: {req_response.status_code}')\n",
        "\n"
      ]
    },
    {
      "cell_type": "code",
      "source": [
        "#1-2 데이터 수집\n",
        "\n",
        "import requests\n",
        "import pandas as pd\n",
        "\n",
        "def get_year_months():\n",
        "    year_months = []\n",
        "    for year in range(2015, 2025):\n",
        "        for month in range(1, 13):\n",
        "            year_months.append(f'{year}{month:02d}')\n",
        "    return year_months\n",
        "\n",
        "api_key = '4944414453696d6b3334716e636a6b'\n",
        "base_url = f\"http://openapi.seoul.go.kr:8088/{api_key}/json/energyUseDataSummaryInfo/1/5\"\n",
        "\n",
        "responses = []\n",
        "\n",
        "for year_month in get_year_months():\n",
        "    year = year_month[:4]\n",
        "    month = year_month[4:]\n",
        "    url = f\"{base_url}/{year}/{month}/\"\n",
        "\n",
        "    response = requests.get(url)\n",
        "\n",
        "    if response.status_code == 200:\n",
        "        data = response.json()\n",
        "        rows = data['energyUseDataSummaryInfo']['row']\n",
        "        for item in rows:\n",
        "            if item['MM_TYPE'] == '개인':\n",
        "                responses.append(item)\n",
        "    else:\n",
        "        print(f\"{year}-{month} API 호출 실패: {response.status_code}\")\n",
        "\n"
      ],
      "metadata": {
        "id": "OYlDnMnGdivd"
      },
      "execution_count": 3,
      "outputs": []
    },
    {
      "cell_type": "code",
      "source": [
        "# 2-1 pandas DataFrame으로 변환, 기본 정보 출력\n",
        "\n",
        "df = pd.DataFrame(responses)\n",
        "\n",
        "print(df.head())  # 상위 5개 행 출력"
      ],
      "metadata": {
        "colab": {
          "base_uri": "https://localhost:8080/"
        },
        "id": "W1i70spjek7s",
        "outputId": "20b7e247-02d3-42d1-ee47-4b78654e59a0"
      },
      "execution_count": 5,
      "outputs": [
        {
          "output_type": "stream",
          "name": "stdout",
          "text": [
            "   YEAR MON MM_TYPE     CNT        EUS       EUS1       EUS2      ECO2_1  \\\n",
            "0  2015  01      개인  767791  193784708  194781915  204969429    -6090964   \n",
            "1  2015  02      개인  774620  189974230  193611430  200055533  -6859251.5   \n",
            "2  2015  05      개인  810422  177289769  181972266  188230004    -7811366   \n",
            "3  2015  06      개인  813731  186073153  191414452  196523474    -7895810   \n",
            "4  2015  07      개인  823337  165114568  171057688  176733530    -8781041   \n",
            "\n",
            "         ECO2_2       GUS  ...          WUS1          WUS2        WCO2_1  \\\n",
            "0  -2582568.736  59133720  ...  12723680.426   12899476.73      8179.308   \n",
            "1  -2908322.636  56487358  ...  12713146.172  12948410.081  -173889.9085   \n",
            "2  -3312019.184  22060892  ...  13214349.918   13186433.49    -113657.49   \n",
            "3   -3347823.44  12677645  ...  14231573.864  14196573.165    27577.8875   \n",
            "4  -3723161.384   8893640  ...  12158770.739  12451976.253   -221494.458   \n",
            "\n",
            "          WCO2_2           HUS          HUS1          HUS2        HCO2_1  \\\n",
            "0    2715.530256  22740838.937  23400055.303  27090493.875  -2504435.652   \n",
            "1  -57731.449622  18793320.213  19032221.757  21414367.325  -1429974.328   \n",
            "2   -37734.28668   1320895.801   1558697.648   1709192.194    -313049.12   \n",
            "3     9155.85865    294312.634    301215.894    295514.063    -4052.3445   \n",
            "4  -73536.160056    702863.645    227748.982    218148.985   479914.6615   \n",
            "\n",
            "             HCO2_2               REG_DATE  \n",
            "0  -33660084.213069  2015-06-04 17:03:55.0  \n",
            "1   -17311712.76832  2015-06-04 16:59:30.0  \n",
            "2   -5190153.166471  2015-08-05 04:00:01.0  \n",
            "3     -90158.752204  2015-09-05 04:00:01.0  \n",
            "4     -29858.537272  2015-10-05 04:00:00.0  \n",
            "\n",
            "[5 rows x 25 columns]\n"
          ]
        }
      ]
    }
  ]
}