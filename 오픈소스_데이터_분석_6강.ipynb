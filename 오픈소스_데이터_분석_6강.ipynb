{
  "nbformat": 4,
  "nbformat_minor": 0,
  "metadata": {
    "colab": {
      "provenance": [],
      "include_colab_link": true
    },
    "kernelspec": {
      "name": "python3",
      "display_name": "Python 3"
    },
    "language_info": {
      "name": "python"
    }
  },
  "cells": [
    {
      "cell_type": "markdown",
      "metadata": {
        "id": "view-in-github",
        "colab_type": "text"
      },
      "source": [
        "<a href=\"https://colab.research.google.com/github/imksp/Data-Analysis-with-Open-Source/blob/main/%EC%98%A4%ED%94%88%EC%86%8C%EC%8A%A4_%EB%8D%B0%EC%9D%B4%ED%84%B0_%EB%B6%84%EC%84%9D_6%EA%B0%95.ipynb\" target=\"_parent\"><img src=\"https://colab.research.google.com/assets/colab-badge.svg\" alt=\"Open In Colab\"/></a>"
      ]
    },
    {
      "cell_type": "markdown",
      "source": [
        "# 오픈소스 기반 데이터 분석 6강 - 데이터 전처리 1"
      ],
      "metadata": {
        "id": "1Ld5KWf86hIu"
      }
    },
    {
      "cell_type": "markdown",
      "source": [
        "### 6-1 데이터 훑어보기"
      ],
      "metadata": {
        "id": "XqpCWf2063pN"
      }
    },
    {
      "cell_type": "code",
      "source": [
        "import pandas as pd\n",
        "import numpy as np\n",
        "\n",
        "data = {\n",
        "    'name': ['김민수', '이지영', '박준호', '최서연', '정도윤'],\n",
        "    'age': [25, 30, 28, 22, 35],\n",
        "    'city': ['서울', '부산', '인천', '서울', '대전'],\n",
        "    'score': [90, 85, 95, 80, np.nan]\n",
        "}\n",
        "df = pd.DataFrame(data)\n",
        "\n",
        "# 데이터 측정\n",
        "df.describe()\n",
        "#print(df.describe())\n",
        "# 모든 데이터 타입 측정\n",
        "df.describe(include='all')\n",
        "# 수치형 데이터 측정\n",
        "df.describe(include=[np.number])\n",
        "# 범주형 데이터 측정\n",
        "df.describe(include=['object'])\n",
        "# 특정 열 분석\n",
        "df['score'].describe()\n"
      ],
      "metadata": {
        "id": "TKsIqpFtYVVS",
        "outputId": "03b0d1d6-7b0b-4173-a558-9cc20d5533fa",
        "colab": {
          "base_uri": "https://localhost:8080/",
          "height": 335
        }
      },
      "execution_count": 1,
      "outputs": [
        {
          "output_type": "execute_result",
          "data": {
            "text/plain": [
              "count     4.000000\n",
              "mean     87.500000\n",
              "std       6.454972\n",
              "min      80.000000\n",
              "25%      83.750000\n",
              "50%      87.500000\n",
              "75%      91.250000\n",
              "max      95.000000\n",
              "Name: score, dtype: float64"
            ],
            "text/html": [
              "<div>\n",
              "<style scoped>\n",
              "    .dataframe tbody tr th:only-of-type {\n",
              "        vertical-align: middle;\n",
              "    }\n",
              "\n",
              "    .dataframe tbody tr th {\n",
              "        vertical-align: top;\n",
              "    }\n",
              "\n",
              "    .dataframe thead th {\n",
              "        text-align: right;\n",
              "    }\n",
              "</style>\n",
              "<table border=\"1\" class=\"dataframe\">\n",
              "  <thead>\n",
              "    <tr style=\"text-align: right;\">\n",
              "      <th></th>\n",
              "      <th>score</th>\n",
              "    </tr>\n",
              "  </thead>\n",
              "  <tbody>\n",
              "    <tr>\n",
              "      <th>count</th>\n",
              "      <td>4.000000</td>\n",
              "    </tr>\n",
              "    <tr>\n",
              "      <th>mean</th>\n",
              "      <td>87.500000</td>\n",
              "    </tr>\n",
              "    <tr>\n",
              "      <th>std</th>\n",
              "      <td>6.454972</td>\n",
              "    </tr>\n",
              "    <tr>\n",
              "      <th>min</th>\n",
              "      <td>80.000000</td>\n",
              "    </tr>\n",
              "    <tr>\n",
              "      <th>25%</th>\n",
              "      <td>83.750000</td>\n",
              "    </tr>\n",
              "    <tr>\n",
              "      <th>50%</th>\n",
              "      <td>87.500000</td>\n",
              "    </tr>\n",
              "    <tr>\n",
              "      <th>75%</th>\n",
              "      <td>91.250000</td>\n",
              "    </tr>\n",
              "    <tr>\n",
              "      <th>max</th>\n",
              "      <td>95.000000</td>\n",
              "    </tr>\n",
              "  </tbody>\n",
              "</table>\n",
              "</div><br><label><b>dtype:</b> float64</label>"
            ]
          },
          "metadata": {},
          "execution_count": 1
        }
      ]
    },
    {
      "cell_type": "markdown",
      "source": [
        "### 6-2 DataFrame 열 선택 및 **조작**"
      ],
      "metadata": {
        "id": "HezV4iK1BmrB"
      }
    },
    {
      "cell_type": "code",
      "source": [
        "import pandas as pd\n",
        "\n",
        "data = {\n",
        "    \"이름\": [\"김철수\", \"이영희\", \"박민수\", \"최지훈\", \"정소희\"],\n",
        "    \"학년\": [1, 2, 3, 4, 2],\n",
        "    \"학점\": [4.2, 3.8, 4.5, 3.9, 3.5],\n",
        "    \"학과\": [\"컴퓨터공학\", \"경영학\", \"전자공학\", \"의학\", \"심리학\"],\n",
        "    \"동아리\": [\"프로그래밍\", \"독서토론\", \"로봇공학\", \"봉사활동\", \"음악감상\"]\n",
        "}\n",
        "df = pd.DataFrame(data)\n",
        "\n",
        "# 특정 열 선택\n",
        "df['이름']\n",
        "df[['이름', '학과', '학점']]\n",
        "selected_df = df[['이름', '학과', '학점']]\n",
        "selected_df\n",
        "selected_col = df[['이름', '학과', '학점']]\n",
        "selected_col\n",
        "# DataFrame 열순서 변경\n",
        "recorded_cols = df[['학과', '이름', '학년', '학점','동아리']]\n",
        "recorded_cols\n",
        "# DataFrame 열이름 변경\n",
        "df_renamed = df.rename(columns={'이름': '학생명', '학점':'평점', '동아리':'과외활동'})\n",
        "df_renamed"
      ],
      "metadata": {
        "id": "23DbuKjzYcpS"
      },
      "execution_count": null,
      "outputs": []
    },
    {
      "cell_type": "markdown",
      "source": [
        "### 6-3 DataFrame 행 선택"
      ],
      "metadata": {
        "id": "lZ2fkkq7B9NN"
      }
    },
    {
      "cell_type": "code",
      "source": [
        "import pandas as pd\n",
        "\n",
        "data = {\n",
        "    \"이름\": [\"김철수\", \"이영희\", \"박민수\", \"최지훈\", \"정소희\"],\n",
        "    \"학년\": [1, 2, 3, 4, 2],\n",
        "    \"학점\": [4.2, 3.8, 4.5, 3.9, 3.5],\n",
        "    \"학과\": [\"컴퓨터공학\", \"경영학\", \"전자공학\", \"의학\", \"심리학\"],\n",
        "    \"동아리\": [\"프로그래밍\", \"독서토론\", \"로봇공학\", \"봉사활동\", \"음악감상\"]\n",
        "}\n",
        "\n",
        "#DataFrame 인덱스 지정\n",
        "df = pd.DataFrame(data)\n",
        "df = df.set_index('이름')\n",
        "df\n",
        "\n",
        "#DataFrame 행 선택\n",
        "df.loc['김철수']\n",
        "df.loc[['김철수', '이영희']]\n",
        "df.loc['김철수': '박민수']\n",
        "\n",
        "#DataFrame 위치 기반 행 선택\n",
        "df.iloc[1]\n",
        "df.iloc[[2,3]]\n",
        "df.iloc[1:3]\n",
        "\n",
        "#DataFrame 조건 기반 선택\n",
        "df.loc[[True, False, True, False, False]]\n",
        "print(df['학점'])\n",
        "df['학점'] >=4.0\n",
        "df.loc[df['학점'] >=4.0]\n",
        "df[df['학년'] ==2]\n",
        "df[(df['학년'] == 2) & (df['학점'] >= 3.7)]\n"
      ],
      "metadata": {
        "id": "Iztna0YTYe_e"
      },
      "execution_count": null,
      "outputs": []
    },
    {
      "cell_type": "markdown",
      "source": [
        "### 6-4 DataFrame 정렬"
      ],
      "metadata": {
        "id": "EX3RYr5jCfka"
      }
    },
    {
      "cell_type": "markdown",
      "source": [],
      "metadata": {
        "id": "G_mEibnYC_tQ"
      }
    },
    {
      "cell_type": "code",
      "source": [
        "import pandas as pd\n",
        "\n",
        "data = {\n",
        "    \"이름\": [\"김철수\", \"이영희\", \"박민수\", \"최지훈\", \"정소희\"],\n",
        "    \"학년\": [1, 2, 3, 4, 2],\n",
        "    \"학점\": [4.2, 3.8, 4.5, 3.9, 3.5],\n",
        "    \"학과\": [\"컴퓨터공학\", \"경영학\", \"전자공학\", \"의학\", \"심리학\"],\n",
        "    \"동아리\": [\"프로그래밍\", \"독서토론\", \"로봇공학\", \"봉사활동\", \"음악감상\"]\n",
        "}\n",
        "\n",
        "#DataFrame 인덱스 지정\n",
        "df = pd.DataFrame(data)\n",
        "df = df.set_index('이름')\n",
        "df = pd.DataFrame(data).set_index('이름')\n",
        "df\n",
        "#DataFrame 단일 열 오름차순, 내림차순 정렬\n",
        "df.sort_values(by='학점')\n",
        "df.sort_values(by='학점', ascending=False)\n",
        "#DataFrame 복수 열 오름차순, 내림차순 정렬\n",
        "df.sort_values(by=['학년','학점'],ascending=[True, False])\n",
        "#DataFrame 인덱스 기분 오른차순, 내림차순 정렬\n",
        "df.sort_index(ascending=False)"
      ],
      "metadata": {
        "id": "T9G-46ITYx7b"
      },
      "execution_count": null,
      "outputs": []
    },
    {
      "cell_type": "markdown",
      "source": [
        "## 6-5 실습 시나리오 - Kaggle을 활용한 데이터 수집 및 측정"
      ],
      "metadata": {
        "id": "6ui5L5oe8HH-"
      }
    },
    {
      "cell_type": "markdown",
      "source": [
        "- Kaggle([https://www.kaggle.com](https://www.kaggle.com)) 회원 가입\n",
        "- Kaggle 접근 토큰 생성(API 키)\n"
      ],
      "metadata": {
        "id": "kX0puWUc8aNR"
      }
    },
    {
      "cell_type": "markdown",
      "source": [
        "### Kaggle API 키 업로드"
      ],
      "metadata": {
        "id": "RtoqM2Mc98fS"
      }
    },
    {
      "cell_type": "code",
      "source": [
        "from google.colab import files\n",
        "files.upload()"
      ],
      "metadata": {
        "id": "OlIwjX8vaAF6",
        "outputId": "d9fc59d8-83d4-4fbd-b28e-ce2b33531419",
        "colab": {
          "base_uri": "https://localhost:8080/",
          "height": 96
        }
      },
      "execution_count": null,
      "outputs": [
        {
          "output_type": "display_data",
          "data": {
            "text/plain": [
              "<IPython.core.display.HTML object>"
            ],
            "text/html": [
              "\n",
              "     <input type=\"file\" id=\"files-f46aeba7-16c7-424f-8b9e-2d4e84bbc6ea\" name=\"files[]\" multiple disabled\n",
              "        style=\"border:none\" />\n",
              "     <output id=\"result-f46aeba7-16c7-424f-8b9e-2d4e84bbc6ea\">\n",
              "      Upload widget is only available when the cell has been executed in the\n",
              "      current browser session. Please rerun this cell to enable.\n",
              "      </output>\n",
              "      <script>// Copyright 2017 Google LLC\n",
              "//\n",
              "// Licensed under the Apache License, Version 2.0 (the \"License\");\n",
              "// you may not use this file except in compliance with the License.\n",
              "// You may obtain a copy of the License at\n",
              "//\n",
              "//      http://www.apache.org/licenses/LICENSE-2.0\n",
              "//\n",
              "// Unless required by applicable law or agreed to in writing, software\n",
              "// distributed under the License is distributed on an \"AS IS\" BASIS,\n",
              "// WITHOUT WARRANTIES OR CONDITIONS OF ANY KIND, either express or implied.\n",
              "// See the License for the specific language governing permissions and\n",
              "// limitations under the License.\n",
              "\n",
              "/**\n",
              " * @fileoverview Helpers for google.colab Python module.\n",
              " */\n",
              "(function(scope) {\n",
              "function span(text, styleAttributes = {}) {\n",
              "  const element = document.createElement('span');\n",
              "  element.textContent = text;\n",
              "  for (const key of Object.keys(styleAttributes)) {\n",
              "    element.style[key] = styleAttributes[key];\n",
              "  }\n",
              "  return element;\n",
              "}\n",
              "\n",
              "// Max number of bytes which will be uploaded at a time.\n",
              "const MAX_PAYLOAD_SIZE = 100 * 1024;\n",
              "\n",
              "function _uploadFiles(inputId, outputId) {\n",
              "  const steps = uploadFilesStep(inputId, outputId);\n",
              "  const outputElement = document.getElementById(outputId);\n",
              "  // Cache steps on the outputElement to make it available for the next call\n",
              "  // to uploadFilesContinue from Python.\n",
              "  outputElement.steps = steps;\n",
              "\n",
              "  return _uploadFilesContinue(outputId);\n",
              "}\n",
              "\n",
              "// This is roughly an async generator (not supported in the browser yet),\n",
              "// where there are multiple asynchronous steps and the Python side is going\n",
              "// to poll for completion of each step.\n",
              "// This uses a Promise to block the python side on completion of each step,\n",
              "// then passes the result of the previous step as the input to the next step.\n",
              "function _uploadFilesContinue(outputId) {\n",
              "  const outputElement = document.getElementById(outputId);\n",
              "  const steps = outputElement.steps;\n",
              "\n",
              "  const next = steps.next(outputElement.lastPromiseValue);\n",
              "  return Promise.resolve(next.value.promise).then((value) => {\n",
              "    // Cache the last promise value to make it available to the next\n",
              "    // step of the generator.\n",
              "    outputElement.lastPromiseValue = value;\n",
              "    return next.value.response;\n",
              "  });\n",
              "}\n",
              "\n",
              "/**\n",
              " * Generator function which is called between each async step of the upload\n",
              " * process.\n",
              " * @param {string} inputId Element ID of the input file picker element.\n",
              " * @param {string} outputId Element ID of the output display.\n",
              " * @return {!Iterable<!Object>} Iterable of next steps.\n",
              " */\n",
              "function* uploadFilesStep(inputId, outputId) {\n",
              "  const inputElement = document.getElementById(inputId);\n",
              "  inputElement.disabled = false;\n",
              "\n",
              "  const outputElement = document.getElementById(outputId);\n",
              "  outputElement.innerHTML = '';\n",
              "\n",
              "  const pickedPromise = new Promise((resolve) => {\n",
              "    inputElement.addEventListener('change', (e) => {\n",
              "      resolve(e.target.files);\n",
              "    });\n",
              "  });\n",
              "\n",
              "  const cancel = document.createElement('button');\n",
              "  inputElement.parentElement.appendChild(cancel);\n",
              "  cancel.textContent = 'Cancel upload';\n",
              "  const cancelPromise = new Promise((resolve) => {\n",
              "    cancel.onclick = () => {\n",
              "      resolve(null);\n",
              "    };\n",
              "  });\n",
              "\n",
              "  // Wait for the user to pick the files.\n",
              "  const files = yield {\n",
              "    promise: Promise.race([pickedPromise, cancelPromise]),\n",
              "    response: {\n",
              "      action: 'starting',\n",
              "    }\n",
              "  };\n",
              "\n",
              "  cancel.remove();\n",
              "\n",
              "  // Disable the input element since further picks are not allowed.\n",
              "  inputElement.disabled = true;\n",
              "\n",
              "  if (!files) {\n",
              "    return {\n",
              "      response: {\n",
              "        action: 'complete',\n",
              "      }\n",
              "    };\n",
              "  }\n",
              "\n",
              "  for (const file of files) {\n",
              "    const li = document.createElement('li');\n",
              "    li.append(span(file.name, {fontWeight: 'bold'}));\n",
              "    li.append(span(\n",
              "        `(${file.type || 'n/a'}) - ${file.size} bytes, ` +\n",
              "        `last modified: ${\n",
              "            file.lastModifiedDate ? file.lastModifiedDate.toLocaleDateString() :\n",
              "                                    'n/a'} - `));\n",
              "    const percent = span('0% done');\n",
              "    li.appendChild(percent);\n",
              "\n",
              "    outputElement.appendChild(li);\n",
              "\n",
              "    const fileDataPromise = new Promise((resolve) => {\n",
              "      const reader = new FileReader();\n",
              "      reader.onload = (e) => {\n",
              "        resolve(e.target.result);\n",
              "      };\n",
              "      reader.readAsArrayBuffer(file);\n",
              "    });\n",
              "    // Wait for the data to be ready.\n",
              "    let fileData = yield {\n",
              "      promise: fileDataPromise,\n",
              "      response: {\n",
              "        action: 'continue',\n",
              "      }\n",
              "    };\n",
              "\n",
              "    // Use a chunked sending to avoid message size limits. See b/62115660.\n",
              "    let position = 0;\n",
              "    do {\n",
              "      const length = Math.min(fileData.byteLength - position, MAX_PAYLOAD_SIZE);\n",
              "      const chunk = new Uint8Array(fileData, position, length);\n",
              "      position += length;\n",
              "\n",
              "      const base64 = btoa(String.fromCharCode.apply(null, chunk));\n",
              "      yield {\n",
              "        response: {\n",
              "          action: 'append',\n",
              "          file: file.name,\n",
              "          data: base64,\n",
              "        },\n",
              "      };\n",
              "\n",
              "      let percentDone = fileData.byteLength === 0 ?\n",
              "          100 :\n",
              "          Math.round((position / fileData.byteLength) * 100);\n",
              "      percent.textContent = `${percentDone}% done`;\n",
              "\n",
              "    } while (position < fileData.byteLength);\n",
              "  }\n",
              "\n",
              "  // All done.\n",
              "  yield {\n",
              "    response: {\n",
              "      action: 'complete',\n",
              "    }\n",
              "  };\n",
              "}\n",
              "\n",
              "scope.google = scope.google || {};\n",
              "scope.google.colab = scope.google.colab || {};\n",
              "scope.google.colab._files = {\n",
              "  _uploadFiles,\n",
              "  _uploadFilesContinue,\n",
              "};\n",
              "})(self);\n",
              "</script> "
            ]
          },
          "metadata": {}
        },
        {
          "output_type": "stream",
          "name": "stdout",
          "text": [
            "Saving kaggle.json to kaggle (1).json\n"
          ]
        },
        {
          "output_type": "execute_result",
          "data": {
            "text/plain": [
              "{'kaggle (1).json': b'{\"username\":\"imkspp\",\"key\":\"8fd13ab5193dd9d89ca6e530de51329b\"}'}"
            ]
          },
          "metadata": {},
          "execution_count": 65
        }
      ]
    },
    {
      "cell_type": "markdown",
      "source": [
        "### Kaggle API 키 사용을 위한 Colab 환경 설정"
      ],
      "metadata": {
        "id": "V3YAacMY-KAV"
      }
    },
    {
      "cell_type": "code",
      "source": [
        "!mkdir -p ~/.kaggle\n",
        "!cp kaggle.json ~/.kaggle/\n",
        "!chmod 600 ~/.kaggle/kaggle.json"
      ],
      "metadata": {
        "id": "9bknQa2TaDRD"
      },
      "execution_count": null,
      "outputs": []
    },
    {
      "cell_type": "markdown",
      "source": [
        "### Kaggle 데이터셋 다운로드"
      ],
      "metadata": {
        "id": "Dv2PN16j-ip4"
      }
    },
    {
      "cell_type": "code",
      "source": [
        "!kaggle competitions download -c store-sales-time-series-forecasting\n",
        "\n",
        "!unzip store-sales-time-series-forecasting.zip"
      ],
      "metadata": {
        "id": "nemk0pNOaEvh",
        "outputId": "717f6bac-ee28-44f2-8ab0-7a3793b39c21",
        "colab": {
          "base_uri": "https://localhost:8080/"
        }
      },
      "execution_count": null,
      "outputs": [
        {
          "output_type": "stream",
          "name": "stdout",
          "text": [
            "store-sales-time-series-forecasting.zip: Skipping, found more recently modified local copy (use --force to force download)\n",
            "Archive:  store-sales-time-series-forecasting.zip\n",
            "replace holidays_events.csv? [y]es, [n]o, [A]ll, [N]one, [r]ename: y\n",
            "  inflating: holidays_events.csv     \n",
            "replace oil.csv? [y]es, [n]o, [A]ll, [N]one, [r]ename: y\n",
            "  inflating: oil.csv                 \n",
            "replace sample_submission.csv? [y]es, [n]o, [A]ll, [N]one, [r]ename: y\n",
            "  inflating: sample_submission.csv   \n",
            "replace stores.csv? [y]es, [n]o, [A]ll, [N]one, [r]ename: y\n",
            "  inflating: stores.csv              \n",
            "replace test.csv? [y]es, [n]o, [A]ll, [N]one, [r]ename: y\n",
            "  inflating: test.csv                \n",
            "replace train.csv? [y]es, [n]o, [A]ll, [N]one, [r]ename: y\n",
            "  inflating: train.csv               \n",
            "replace transactions.csv? [y]es, [n]o, [A]ll, [N]one, [r]ename: y\n",
            "  inflating: transactions.csv        \n"
          ]
        }
      ]
    },
    {
      "cell_type": "markdown",
      "source": [
        "### Kaggle 데이터셋 DataFrame 로드 및 살펴보기"
      ],
      "metadata": {
        "id": "o31gdHgx-pik"
      }
    },
    {
      "cell_type": "code",
      "source": [
        "import pandas as pd\n",
        "\n",
        "# Grocery Sales 데이터 DataFrame 로드\n",
        "\n",
        "# 판매 데이터 살펴보기\n"
      ],
      "metadata": {
        "id": "QSoBpU9caKQ-"
      },
      "execution_count": null,
      "outputs": []
    },
    {
      "cell_type": "markdown",
      "source": [
        "### Kaggle 데이터셋 측정"
      ],
      "metadata": {
        "id": "-B_aRee0_CXf"
      }
    },
    {
      "cell_type": "code",
      "source": [
        "# 판매 데이터 기본 통계량\n",
        "\n",
        "# 매장 데이터 기본 정보\n",
        "\n",
        "# 원유 가격 데이터 기본 정보\n"
      ],
      "metadata": {
        "id": "d00dD1V0aNoO"
      },
      "execution_count": null,
      "outputs": []
    }
  ]
}