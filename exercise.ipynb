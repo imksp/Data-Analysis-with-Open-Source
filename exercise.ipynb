{
  "nbformat": 4,
  "nbformat_minor": 0,
  "metadata": {
    "colab": {
      "provenance": [],
      "authorship_tag": "ABX9TyP06P7OGJjcZSBPajFzAFjQ",
      "include_colab_link": true
    },
    "kernelspec": {
      "name": "python3",
      "display_name": "Python 3"
    },
    "language_info": {
      "name": "python"
    }
  },
  "cells": [
    {
      "cell_type": "markdown",
      "metadata": {
        "id": "view-in-github",
        "colab_type": "text"
      },
      "source": [
        "<a href=\"https://colab.research.google.com/github/imksp/Data-Analysis-with-Open-Source/blob/main/exercise.ipynb\" target=\"_parent\"><img src=\"https://colab.research.google.com/assets/colab-badge.svg\" alt=\"Open In Colab\"/></a>"
      ]
    },
    {
      "cell_type": "markdown",
      "source": [
        "**과제 1-1**"
      ],
      "metadata": {
        "id": "BxP_Kedp7sj8"
      }
    },
    {
      "cell_type": "code",
      "source": [
        "import requests\n",
        "\n",
        "# 본인의 인증키 입력\n",
        "api_key = '4944414453696d6b3334716e636a6b'  # 실제 키로 교체\n",
        "\n",
        "# URL 구성\n",
        "url = f\"http://openapi.seoul.go.kr:8088/{api_key}/json/energyUseDataSummaryInfo/1/5/2025/01/\"\n",
        "\n",
        "# API 호출\n",
        "req_response = requests.get(url)\n",
        "\n",
        "# 호출 성공 여부 확인\n",
        "if req_response.status_code == 200:\n",
        "    print(\"API 호출 성공\")\n",
        "    print(req_response.json())  # 전체 응답 출력\n",
        "else:\n",
        "    print(f\"API 호출 실패: {req_response.status_code}\")"
      ],
      "metadata": {
        "id": "_BAI61PJ8h0P",
        "outputId": "d77ce039-687c-4eb4-877d-787ef99fde53",
        "colab": {
          "base_uri": "https://localhost:8080/"
        }
      },
      "execution_count": null,
      "outputs": [
        {
          "output_type": "stream",
          "name": "stdout",
          "text": [
            "API 호출 성공\n",
            "{'energyUseDataSummaryInfo': {'list_total_count': 7, 'RESULT': {'CODE': 'INFO-000', 'MESSAGE': '정상 처리되었습니다'}, 'row': [{'YEAR': '2025', 'MON': '01', 'MM_TYPE': '개인', 'CNT': '1254911', 'EUS': '293836031', 'EUS1': '294950734', 'EUS2': '299856505', 'ECO2_1': '-3567588.5', 'ECO2_2': '-3390415.508', 'GUS': '64743317', 'GUS1': '65640270', 'GUS2': '70129681', 'GCO2_1': '-3112082', 'GCO2_2': '-6224164', 'WUS': '14290250.9', 'WUS1': '14349702.2', 'WUS2': '14658723.9', 'WCO2_1': '-213962.15', 'WCO2_2': '-343069.116', 'HUS': '26079633.15', 'HUS1': '26915271.488', 'HUS2': '28567284.736', 'HCO2_1': '-1661644.962', 'HCO2_2': '-1825469.852831888', 'REG_DATE': '2025-04-01 04:02:46.0'}, {'YEAR': '2025', 'MON': '01', 'MM_TYPE': '공공기관', 'CNT': '2458', 'EUS': '159137367', 'EUS1': '161224118', 'EUS2': '165177059', 'ECO2_1': '-4063221.5', 'ECO2_2': '-4063221.5', 'GUS': '5245062', 'GUS1': '6339106', 'GUS2': '6122197', 'GCO2_1': '-985669.5', 'GCO2_2': '-1971339', 'WUS': '1109496.9', 'WUS1': '1067063.3', 'WUS2': '1048332.2', 'WCO2_1': '51799.15', 'WCO2_2': '155397.45', 'HUS': '0', 'HUS1': '0', 'HUS2': '0', 'HCO2_1': '0', 'HCO2_2': '0', 'REG_DATE': '2025-04-01 04:02:46.0'}, {'YEAR': '2025', 'MON': '01', 'MM_TYPE': '공동주택관리소', 'CNT': '3717', 'EUS': '549306970', 'EUS1': '553171963', 'EUS2': '562732975', 'ECO2_1': '-8645499', 'ECO2_2': '-8645499', 'GUS': '12897492', 'GUS1': '13018588', 'GUS2': '14635031', 'GCO2_1': '-929317.5', 'GCO2_2': '-1858635', 'WUS': '19747538.2', 'WUS1': '19813169.6', 'WUS2': '19835823.1', 'WCO2_1': '-76958.15', 'WCO2_2': '-230874.45', 'HUS': '0', 'HUS1': '0', 'HUS2': '0', 'HCO2_1': '0', 'HCO2_2': '0', 'REG_DATE': '2025-04-01 04:02:46.0'}, {'YEAR': '2025', 'MON': '01', 'MM_TYPE': '종교단체', 'CNT': '849', 'EUS': '9663487', 'EUS1': '9820536', 'EUS2': '10044709', 'ECO2_1': '-269135.5', 'ECO2_2': '-269135.5', 'GUS': '538785', 'GUS1': '574357', 'GUS2': '665228', 'GCO2_1': '-80898', 'GCO2_2': '-161796', 'WUS': '45011', 'WUS1': '44737', 'WUS2': '44089', 'WCO2_1': '598', 'WCO2_2': '1794', 'HUS': '0', 'HUS1': '0', 'HUS2': '0', 'HCO2_1': '0', 'HCO2_2': '0', 'REG_DATE': '2025-04-01 04:02:46.0'}, {'YEAR': '2025', 'MON': '01', 'MM_TYPE': '기업', 'CNT': '19458', 'EUS': '624104890', 'EUS1': '643139445', 'EUS2': '659133378', 'ECO2_1': '-27031521.5', 'ECO2_2': '-27031521.5', 'GUS': '58727315', 'GUS1': '59074550', 'GUS2': '57721631', 'GCO2_1': '342601', 'GCO2_2': '685202', 'WUS': '4215302.2', 'WUS1': '4177674.4', 'WUS2': '4187370.8', 'WCO2_1': '32779.6', 'WCO2_2': '98338.8', 'HUS': '0', 'HUS1': '0', 'HUS2': '0', 'HCO2_1': '0', 'HCO2_2': '0', 'REG_DATE': '2025-04-01 04:02:46.0'}]}}\n"
          ]
        }
      ]
    },
    {
      "cell_type": "markdown",
      "source": [
        "**과제 1-2**"
      ],
      "metadata": {
        "id": "0EnOKhKvfce-"
      }
    },
    {
      "cell_type": "code",
      "execution_count": null,
      "metadata": {
        "colab": {
          "base_uri": "https://localhost:8080/"
        },
        "id": "wb270dsuB6er",
        "outputId": "65e68cd7-cf5a-49e3-f3d6-fd58379ea243"
      },
      "outputs": [
        {
          "output_type": "stream",
          "name": "stdout",
          "text": [
            "[{'YEAR': '2015', 'MON': '01', 'EUS': '193784708', 'GUS': '59133720', 'WUS': '12819757.886', 'HUS': '22740838.937'}, {'YEAR': '2015', 'MON': '02', 'EUS': '189974230', 'GUS': '56487358', 'WUS': '12656888.218', 'HUS': '18793320.213'}, {'YEAR': '2015', 'MON': '05', 'EUS': '177289769', 'GUS': '22060892', 'WUS': '13086734.214', 'HUS': '1320895.801'}, {'YEAR': '2015', 'MON': '06', 'EUS': '186073153', 'GUS': '12677645', 'WUS': '14241651.402', 'HUS': '294312.634'}, {'YEAR': '2015', 'MON': '07', 'EUS': '165114568', 'GUS': '8893640', 'WUS': '12083879.038', 'HUS': '702863.645'}]\n"
          ]
        }
      ],
      "source": [
        "import requests\n",
        "import pandas as pd\n",
        "\n",
        "# 연도-월 리스트 생성 함수\n",
        "def get_year_months():\n",
        "    year_months = []\n",
        "    for year in range(2015, 2025):  # 2024까지 포함\n",
        "        for month in range(1, 13):  # 1월부터 12월까지\n",
        "            year_months.append(f'{year}{month:02d}')\n",
        "    return year_months\n",
        "\n",
        "# API 키와 기본 URL 설정\n",
        "api_key = '4944414453696d6b3334716e636a6b'  # 본인의 인증키\n",
        "base_url = f\"http://openapi.seoul.go.kr:8088/{api_key}/json/energyUseDataSummaryInfo/1/5\"\n",
        "\n",
        "responses = []\n",
        "\n",
        "# 월별 데이터 수집\n",
        "for year_month in get_year_months():\n",
        "    year = year_month[:4]\n",
        "    month = year_month[4:]\n",
        "    url = f\"{base_url}/{year}/{month}/\"\n",
        "\n",
        "    # API 호출\n",
        "    response = requests.get(url)\n",
        "\n",
        "    # 데이터 수집\n",
        "    if response.status_code == 200:\n",
        "        data = response.json()\n",
        "        rows = data['energyUseDataSummaryInfo']['row']\n",
        "        for item in rows:\n",
        "            if item['MM_TYPE'] == '개인':\n",
        "                # 필요한 컬럼만 추출\n",
        "                responses.append({\n",
        "                    'YEAR': item['YEAR'],\n",
        "                    'MON': item['MON'],\n",
        "                    'EUS': item['EUS'],\n",
        "                    'GUS': item['GUS'],\n",
        "                    'WUS': item['WUS'],\n",
        "                    'HUS': item['HUS']\n",
        "                })\n",
        "    else:\n",
        "        print(f\"{year}-{month} API 호출 실패: {response.status_code}\")\n",
        "\n",
        "import json\n",
        "print(responses[:5])  # 상위 5개만 출력\n"
      ]
    },
    {
      "cell_type": "markdown",
      "source": [],
      "metadata": {
        "id": "51P-o1mB8NUG"
      }
    },
    {
      "cell_type": "markdown",
      "source": [
        "**과제 2-1**"
      ],
      "metadata": {
        "id": "29iKYkV3fkJx"
      }
    },
    {
      "cell_type": "code",
      "source": [
        "# 데이터 변환\n",
        "df = pd.DataFrame(responses)\n",
        "print(df.head())  # 상위 5개 행 출력\n"
      ],
      "metadata": {
        "id": "wQgHvspgfXy9",
        "outputId": "e1ede44a-8b10-4460-ac60-eeeb94d28fc1",
        "colab": {
          "base_uri": "https://localhost:8080/"
        }
      },
      "execution_count": null,
      "outputs": [
        {
          "output_type": "stream",
          "name": "stdout",
          "text": [
            "   YEAR MON        EUS       GUS           WUS           HUS\n",
            "0  2015  01  193784708  59133720  12819757.886  22740838.937\n",
            "1  2015  02  189974230  56487358  12656888.218  18793320.213\n",
            "2  2015  05  177289769  22060892  13086734.214   1320895.801\n",
            "3  2015  06  186073153  12677645  14241651.402    294312.634\n",
            "4  2015  07  165114568   8893640  12083879.038    702863.645\n"
          ]
        }
      ]
    },
    {
      "cell_type": "markdown",
      "source": [
        "**과제 2-2**"
      ],
      "metadata": {
        "id": "uatZI-92ntne"
      }
    },
    {
      "cell_type": "code",
      "source": [
        "# 월 → 계절 매핑 딕셔너리\n",
        "season_map = {\n",
        "    12: 'Winter', 1: 'Winter', 2: 'Winter',\n",
        "    3: 'Spring', 4: 'Spring', 5: 'Spring',\n",
        "    6: 'Summer', 7: 'Summer', 8: 'Summer',\n",
        "    9: 'Fall', 10: 'Fall', 11: 'Fall'\n",
        "}\n",
        "\n",
        "# MON 컬럼이 문자열이면 정수로 변환\n",
        "df['MON'] = df['MON'].astype(int)\n",
        "\n",
        "# 계절 컬럼 추가\n",
        "df['SEASON'] = df['MON'].map(season_map)\n",
        "print(df[['YEAR', 'MON', 'SEASON']].head())\n"
      ],
      "metadata": {
        "id": "BrMmhrnTijjP",
        "outputId": "1a835cdb-e729-492f-96ec-476e62a3d47a",
        "colab": {
          "base_uri": "https://localhost:8080/"
        }
      },
      "execution_count": null,
      "outputs": [
        {
          "output_type": "stream",
          "name": "stdout",
          "text": [
            "   YEAR  MON  SEASON\n",
            "0  2015    1  Winter\n",
            "1  2015    2  Winter\n",
            "2  2015    5  Spring\n",
            "3  2015    6  Summer\n",
            "4  2015    7  Summer\n"
          ]
        }
      ]
    }
  ]
}