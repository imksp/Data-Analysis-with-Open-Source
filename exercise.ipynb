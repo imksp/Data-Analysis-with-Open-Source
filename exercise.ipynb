{
  "nbformat": 4,
  "nbformat_minor": 0,
  "metadata": {
    "colab": {
      "provenance": [],
      "authorship_tag": "ABX9TyM0Pi9XxjdRnOGHrKTgqzS6",
      "include_colab_link": true
    },
    "kernelspec": {
      "name": "python3",
      "display_name": "Python 3"
    },
    "language_info": {
      "name": "python"
    }
  },
  "cells": [
    {
      "cell_type": "markdown",
      "metadata": {
        "id": "view-in-github",
        "colab_type": "text"
      },
      "source": [
        "<a href=\"https://colab.research.google.com/github/imksp/Data-Analysis-with-Open-Source/blob/main/exercise.ipynb\" target=\"_parent\"><img src=\"https://colab.research.google.com/assets/colab-badge.svg\" alt=\"Open In Colab\"/></a>"
      ]
    },
    {
      "cell_type": "code",
      "execution_count": 2,
      "metadata": {
        "colab": {
          "base_uri": "https://localhost:8080/"
        },
        "id": "wb270dsuB6er",
        "outputId": "71cb45da-91ed-4325-81f8-193365c19e00"
      },
      "outputs": [
        {
          "output_type": "stream",
          "name": "stdout",
          "text": [
            "b'{\"CardSubwayStatsNew\":{\"list_total_count\":593,\"RESULT\":{\"CODE\":\"INFO-000\",\"MESSAGE\":\"\\xec\\xa0\\x95\\xec\\x83\\x81 \\xec\\xb2\\x98\\xeb\\xa6\\xac\\xeb\\x90\\x98\\xec\\x97\\x88\\xec\\x8a\\xb5\\xeb\\x8b\\x88\\xeb\\x8b\\xa4\"},\"row\":[{\"USE_YMD\":\"20220301\",\"SBWY_ROUT_LN_NM\":\"1\\xed\\x98\\xb8\\xec\\x84\\xa0\",\"SBWY_STNS_NM\":\"\\xec\\x84\\x9c\\xec\\x9a\\xb8\\xec\\x97\\xad\",\"GTON_TNOPE\":\"20994\",\"GTOFF_TNOPE\":\"19468\",\"REG_YMD\":\"20220304\"},{\"USE_YMD\":\"20220301\",\"SBWY_ROUT_LN_NM\":\"1\\xed\\x98\\xb8\\xec\\x84\\xa0\",\"SBWY_STNS_NM\":\"\\xec\\x8b\\x9c\\xec\\xb2\\xad\",\"GTON_TNOPE\":\"12439\",\"GTOFF_TNOPE\":\"12379\",\"REG_YMD\":\"20220304\"},{\"USE_YMD\":\"20220301\",\"SBWY_ROUT_LN_NM\":\"1\\xed\\x98\\xb8\\xec\\x84\\xa0\",\"SBWY_STNS_NM\":\"\\xec\\xa2\\x85\\xea\\xb0\\x81\",\"GTON_TNOPE\":\"15750\",\"GTOFF_TNOPE\":\"13544\",\"REG_YMD\":\"20220304\"},{\"USE_YMD\":\"20220301\",\"SBWY_ROUT_LN_NM\":\"1\\xed\\x98\\xb8\\xec\\x84\\xa0\",\"SBWY_STNS_NM\":\"\\xec\\xa2\\x85\\xeb\\xa1\\x9c3\\xea\\xb0\\x80\",\"GTON_TNOPE\":\"16349\",\"GTOFF_TNOPE\":\"14533\",\"REG_YMD\":\"20220304\"},{\"USE_YMD\":\"20220301\",\"SBWY_ROUT_LN_NM\":\"1\\xed\\x98\\xb8\\xec\\x84\\xa0\",\"SBWY_STNS_NM\":\"\\xec\\xa2\\x85\\xeb\\xa1\\x9c5\\xea\\xb0\\x80\",\"GTON_TNOPE\":\"14036\",\"GTOFF_TNOPE\":\"13472\",\"REG_YMD\":\"20220304\"}]}}'\n"
          ]
        }
      ],
      "source": [
        "import requests\n",
        "\n",
        "url = 'http://openapi.seoul.go.kr:8088/sample/json/CardSubwayStatsNew/1/5/20220301'\n",
        "\n",
        "response = requests.get(url)\n",
        "print(response.content)"
      ]
    }
  ]
}