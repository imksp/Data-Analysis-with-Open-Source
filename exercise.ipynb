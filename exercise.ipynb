{
  "nbformat": 4,
  "nbformat_minor": 0,
  "metadata": {
    "colab": {
      "provenance": [],
      "authorship_tag": "ABX9TyPfFMdDRqbjc+b8N3XDuXOm",
      "include_colab_link": true
    },
    "kernelspec": {
      "name": "python3",
      "display_name": "Python 3"
    },
    "language_info": {
      "name": "python"
    }
  },
  "cells": [
    {
      "cell_type": "markdown",
      "metadata": {
        "id": "view-in-github",
        "colab_type": "text"
      },
      "source": [
        "<a href=\"https://colab.research.google.com/github/imksp/Data-Analysis-with-Open-Source/blob/main/exercise.ipynb\" target=\"_parent\"><img src=\"https://colab.research.google.com/assets/colab-badge.svg\" alt=\"Open In Colab\"/></a>"
      ]
    },
    {
      "cell_type": "code",
      "execution_count": 10,
      "metadata": {
        "colab": {
          "base_uri": "https://localhost:8080/"
        },
        "id": "wb270dsuB6er",
        "outputId": "12aed9f2-e30c-4823-d798-37914553f19a"
      },
      "outputs": [
        {
          "output_type": "stream",
          "name": "stdout",
          "text": [
            "[{'YEAR': '2015', 'MON': '01', 'EUS': '193784708', 'GUS': '59133720', 'WUS': '12819757.886', 'HUS': '22740838.937'}, {'YEAR': '2015', 'MON': '02', 'EUS': '189974230', 'GUS': '56487358', 'WUS': '12656888.218', 'HUS': '18793320.213'}, {'YEAR': '2015', 'MON': '05', 'EUS': '177289769', 'GUS': '22060892', 'WUS': '13086734.214', 'HUS': '1320895.801'}, {'YEAR': '2015', 'MON': '06', 'EUS': '186073153', 'GUS': '12677645', 'WUS': '14241651.402', 'HUS': '294312.634'}, {'YEAR': '2015', 'MON': '07', 'EUS': '165114568', 'GUS': '8893640', 'WUS': '12083879.038', 'HUS': '702863.645'}]\n"
          ]
        }
      ],
      "source": [
        "import requests\n",
        "import pandas as pd\n",
        "\n",
        "# 연도-월 리스트 생성 함수\n",
        "def get_year_months():\n",
        "    year_months = []\n",
        "    for year in range(2015, 2025):  # 2024까지 포함\n",
        "        for month in range(1, 13):  # 1월부터 12월까지\n",
        "            year_months.append(f'{year}{month:02d}')\n",
        "    return year_months\n",
        "\n",
        "# API 키와 기본 URL 설정\n",
        "api_key = '4944414453696d6b3334716e636a6b'  # 본인의 인증키\n",
        "base_url = f\"http://openapi.seoul.go.kr:8088/{api_key}/json/energyUseDataSummaryInfo/1/5\"\n",
        "\n",
        "responses = []\n",
        "\n",
        "# 월별 데이터 수집\n",
        "for year_month in get_year_months():\n",
        "    year = year_month[:4]\n",
        "    month = year_month[4:]\n",
        "    url = f\"{base_url}/{year}/{month}/\"\n",
        "\n",
        "    # API 호출\n",
        "    response = requests.get(url)\n",
        "\n",
        "    # 데이터 수집\n",
        "    if response.status_code == 200:\n",
        "        data = response.json()\n",
        "        rows = data['energyUseDataSummaryInfo']['row']\n",
        "        for item in rows:\n",
        "            if item['MM_TYPE'] == '개인':\n",
        "                # 필요한 컬럼만 추출\n",
        "                responses.append({\n",
        "                    'YEAR': item['YEAR'],\n",
        "                    'MON': item['MON'],\n",
        "                    'EUS': item['EUS'],\n",
        "                    'GUS': item['GUS'],\n",
        "                    'WUS': item['WUS'],\n",
        "                    'HUS': item['HUS']\n",
        "                })\n",
        "    else:\n",
        "        print(f\"{year}-{month} API 호출 실패: {response.status_code}\")\n",
        "\n",
        "import json\n",
        "print(responses[:5])  # 상위 5개만 출력\n"
      ]
    }
  ]
}